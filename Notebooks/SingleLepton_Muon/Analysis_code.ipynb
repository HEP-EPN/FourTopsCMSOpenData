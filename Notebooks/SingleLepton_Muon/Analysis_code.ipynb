{
 "cells": [
  {
   "cell_type": "markdown",
   "id": "b91d8f18",
   "metadata": {},
   "source": [
    "# Notebook 1 - Simple Analyzer\n",
    "\n",
    "This notebook takes CMS OpenData nanoAOD files, applies some selection and make few simple plots. \n",
    "\n",
    "Expected output: Histograms with the event selection.\n",
    "\n",
    "\n",
    "Physics objects of interest: muons and jets. \n",
    "\n",
    "For more information: https://github.com/HEP-EPN/FourTopsCMSOpenData/wiki. \n",
    "\n",
    "To understand more about coffea (extremely useful): https://coffeateam.github.io/coffea/index.html. "
   ]
  },
  {
   "cell_type": "markdown",
   "id": "4e7b5f6f",
   "metadata": {},
   "source": [
    "Let's first load the libraries:"
   ]
  },
  {
   "cell_type": "code",
   "execution_count": 39,
   "id": "76764285",
   "metadata": {},
   "outputs": [],
   "source": [
    "import asyncio\n",
    "import logging\n",
    "import os\n",
    "import time\n",
    "\n",
    "import vector; vector.register_awkward() \n",
    "import awkward as ak\n",
    "from coffea import processor\n",
    "from coffea.nanoevents import transforms\n",
    "from coffea.nanoevents.methods import base, vector\n",
    "from coffea.nanoevents import NanoAODSchema\n",
    "import hist\n",
    "import json\n",
    "import matplotlib as mpl\n",
    "import matplotlib.pyplot as plt\n",
    "import numpy as np\n",
    "import uproot"
   ]
  },
  {
   "cell_type": "markdown",
   "id": "89775383",
   "metadata": {},
   "source": [
    "For future use, let's define some global configuration"
   ]
  },
  {
   "cell_type": "code",
   "execution_count": 3,
   "id": "9c0b1938",
   "metadata": {},
   "outputs": [],
   "source": [
    "#ifile = uproot.open(\"root://eosuser.cern.ch//eos/user/a/algomez/tmpFiles/opendata_files/SingleElectron/cmsopendata2015_Run2015D_SingleElectron_MINIAOD_08Jun2016-v1_21.root\")\n",
    "#ifile[\"Events\"].keys()\n",
    "\n",
    "#events = NanoEventsFactory.from_root(\n",
    "#    \"https://xrootd-local.unl.edu:1094//store/user/AGC/nanoAOD/TT_TuneCUETP8M1_13TeV-powheg-pythia8/cmsopendata2015_ttbar_19980_PU25nsData2015v1_76X_mcRun2_asymptotic_v12_ext3-v1_00000_0000.root\",\n",
    "#    schemaclass=NanoAODSchema.v6,\n",
    "#    metadata={\"dataset\": \"TT\"},\n",
    "#).events()"
   ]
  },
  {
   "cell_type": "code",
   "execution_count": 40,
   "id": "1a6c4cb5",
   "metadata": {},
   "outputs": [],
   "source": [
    "DATA = \"SingleMuon\"  \n",
    "\n",
    "# input files per process, set to e.g. 10 (smaller number = faster)\n",
    "N_FILES_MAX_PER_SAMPLE = 10\n",
    "\n",
    "### BENCHMARKING-SPECIFIC SETTINGS\n",
    "\n",
    "# chunk size to use\n",
    "CHUNKSIZE = 500_000\n",
    "\n",
    "# metadata to propagate through to metrics\n",
    "CORES_PER_WORKER = 2  # does not do anything, only used for metric gathering (set to 2 for distributed coffea-casa)\n",
    "\n",
    "# scaling for local setups with FuturesExecutor\n",
    "NUM_CORES = 4"
   ]
  },
  {
   "cell_type": "markdown",
   "id": "9b7cb6b1",
   "metadata": {},
   "source": [
    "NanoAOD datasets are stored in `data/ntuples_nanoaod.json` folder. This json file contains information about the number of events, process and systematic. The following function reads the json file and returns a dictionary with the process to run."
   ]
  },
  {
   "cell_type": "code",
   "execution_count": 41,
   "id": "58a76cf5",
   "metadata": {},
   "outputs": [],
   "source": [
    "def construct_fileset(n_files_max_per_sample,\n",
    "                      dataset=\"SingleMuon\",\n",
    "                      onlyNominal=False,\n",
    "                      ntuples_json=\"ntuples_nanoaod.json\"):\n",
    "    # using https://atlas-groupdata.web.cern.ch/atlas-groupdata/dev/AnalysisTop/TopDataPreparation/XSection-MC15-13TeV.data\n",
    "    # for reference\n",
    "    # x-secs are in pb\n",
    "    xsec_info = {\n",
    "        \"ttbar\": 831., ###396.87 + 332.97, # nonallhad + allhad, keep same x-sec for all\n",
    "       # \"single_top_s_chan\": 2.0268 + 1.2676,\n",
    "       # \"single_top_t_chan\": (36.993 + 22.175)/0.252,  # scale from lepton filter to inclusive\n",
    "       # \"single_top_tW\": 35.6 + 35.6, #37.936 + 37.906,\n",
    "       # \"wjets\": 61526, ##61457 * 0.252,  # e/mu+nu final states\n",
    "        \"tttt\" : 0.009, \n",
    "        \"data\": None\n",
    "    }\n",
    "\n",
    "    # list of files\n",
    "    with open(ntuples_json) as f:\n",
    "        file_info = json.load(f)\n",
    "    \n",
    "    # process into \"fileset\" summarizing all info\n",
    "    fileset = {}\n",
    "    for process in file_info.keys():\n",
    "        if process == \"data\":\n",
    "            file_list = file_info[process][dataset][\"files\"]\n",
    "            if n_files_max_per_sample != -1:\n",
    "                #file_list = file_list[:int(n_files_max_per_sample/10)]\n",
    "                file_list = file_list[:]  # use all data\n",
    "\n",
    "            file_paths = [f[\"path\"] for f in file_list]\n",
    "            metadata = {\"process\": \"data\", \"xsec\": 1}\n",
    "            fileset.update({\"data\": {\"files\": file_paths, \"metadata\": metadata}})\n",
    "            \n",
    "\n",
    "        for variation in file_info[process].keys():\n",
    "            if onlyNominal & ~variation.startswith(\"nominal\"): continue\n",
    "            #print(variation)\n",
    "            file_list = file_info[process][variation][\"files\"]\n",
    "            if n_files_max_per_sample != -1:\n",
    "                file_list = file_list[:n_files_max_per_sample]  # use partial set of samples, first 10 files\n",
    "\n",
    "            file_paths = [f[\"path\"] for f in file_list]\n",
    "            nevts_total = sum([f[\"nevts\"] for f in file_list])\n",
    "            metadata = {\"process\": process, \"variation\": variation, \"nevts\": nevts_total, \"xsec\": xsec_info[process]}\n",
    "            fileset.update({f\"{process}__{variation}\": {\"files\": file_paths, \"metadata\": metadata}})\n",
    "            \n",
    "\n",
    "    return fileset\n"
   ]
  },
  {
   "cell_type": "code",
   "execution_count": 42,
   "id": "6873da60",
   "metadata": {},
   "outputs": [
    {
     "name": "stdout",
     "output_type": "stream",
     "text": [
      "11378043\n",
      "1210521\n"
     ]
    }
   ],
   "source": [
    "fileset = construct_fileset(N_FILES_MAX_PER_SAMPLE, dataset=DATA,\n",
    "                            onlyNominal=True, ntuples_json='../Tesis/ntuples_nanoaod.json') \n",
    "\n",
    "print(fileset[\"ttbar__nominal\"][\"metadata\"][\"nevts\"])\n",
    "print(fileset[\"tttt__nominal\"][\"metadata\"][\"nevts\"])\n",
    "#print(fileset[\"wjets__nominal\"][\"metadata\"][\"nevts\"])\n",
    "#print(fileset[\"data\"][\"files\"])\n",
    "#print(f\"\\nexample of information in fileset:\\n{{\\n  'files': [{fileset['ttbar__nominal']['files'][0]}, ...],\")\n",
    "#print(f\"  'metadata': {fileset['ttbar__nominal']['metadata']}\\n}}\")\n",
    "#print(f\"\\nexample of data information in fileset:\\n{{\\n  'files': [{fileset['data']['files'][0]}, ...],\")"
   ]
  },
  {
   "cell_type": "code",
   "execution_count": 5,
   "id": "014f15d8",
   "metadata": {},
   "outputs": [
    {
     "name": "stdout",
     "output_type": "stream",
     "text": [
      "Total number of events: 32938\n"
     ]
    }
   ],
   "source": [
    "data_files = fileset[\"data\"][\"files\"]\n",
    "\n",
    "# Loop over the files and count the number of events in each one\n",
    "nevents = 0\n",
    "for data_file in data_files:\n",
    "    with uproot.open(data_file) as rootfile:\n",
    "        # Get the number of events in the \"Events\" TTree\n",
    "        tree = rootfile[\"Events\"]\n",
    "        #print(len(tree))\n",
    "        nevents += len(tree)\n",
    "\n",
    "print(f\"Total number of events: {nevents}\")"
   ]
  },
  {
   "cell_type": "markdown",
   "id": "6ed54bc2",
   "metadata": {},
   "source": [
    "## Analyzer\n",
    "\n",
    "Here is the main analyzer. Uses coffea/awkward to make the analysis.\n",
    "\n",
    "Advice: to understand how the selection is working, print the different arrays before and after the selections are made."
   ]
  },
  {
   "cell_type": "code",
   "execution_count": 117,
   "id": "7c01ffaf",
   "metadata": {},
   "outputs": [],
   "source": [
    "class fourTopAnalysis(processor.ProcessorABC):\n",
    "    def __init__(self, DATASET):\n",
    "        \n",
    "        self.DATASET = DATASET\n",
    "        \n",
    "        ### booking histograms\n",
    "        ## define categories\n",
    "        process_cat = hist.axis.StrCategory([], name=\"process\", label=\"Process\", growth=True)\n",
    "        variation_cat  = hist.axis.StrCategory([], name=\"variation\", label=\"Systematic variation\", growth=True)\n",
    "        \n",
    "        ## define bins (axis)\n",
    "        pt_axis = hist.axis.Regular( bins=500, start=0, stop=500, name=\"var\")\n",
    "        eta_axis = hist.axis.Regular( bins=40, start=-5, stop=5, name=\"var\")\n",
    "        num_axis = hist.axis.Regular( bins=20, start=0, stop=20, name=\"var\")\n",
    "        #Htb\n",
    "        htb_axis=hist.axis.Regular( bins=100, start=0, stop=1000, name=\"var\")\n",
    "        #Htratio\n",
    "        htrat_axis=hist.axis.Regular(bins=500,start=0, stop=1, name=\"var\")\n",
    "        #3rd-highest CSV\n",
    "        csv_axis=hist.axis.Regular(bins=100,start=0, stop=1, name=\"var\")\n",
    "        \n",
    "        \n",
    "        ## define a dictionary of histograms\n",
    "        self.hist_muon_dict = {\n",
    "            'muon_pt'  : (hist.Hist(pt_axis, process_cat, variation_cat, storage=hist.storage.Weight())),\n",
    "            'muon_eta' : (hist.Hist(eta_axis, process_cat, variation_cat, storage=hist.storage.Weight())),\n",
    "            'nmuons'   : (hist.Hist(num_axis, process_cat, variation_cat, storage=hist.storage.Weight())),\n",
    "            'jets_pt'  : (hist.Hist(pt_axis, process_cat, variation_cat, storage=hist.storage.Weight())),\n",
    "            'jets_eta' : (hist.Hist(eta_axis, process_cat, variation_cat, storage=hist.storage.Weight())),\n",
    "            'njets'    : (hist.Hist(num_axis, process_cat, variation_cat, storage=hist.storage.Weight())), \n",
    "            'nbjets'   : (hist.Hist(num_axis, process_cat, variation_cat, storage=hist.storage.Weight())),\n",
    "            'htb'      : (hist.Hist(htb_axis, process_cat, variation_cat, storage=hist.storage.Weight())), #variable for bdt\n",
    "            'htrat'    : (hist.Hist(htrat_axis, process_cat, variation_cat, storage=hist.storage.Weight())), #variable for bdt\n",
    "            'third_highest_csv': (hist.Hist(csv_axis, process_cat, variation_cat, storage=hist.storage.Weight())) #variable for bdt\n",
    "\n",
    "        }\n",
    "        \n",
    "        sumw_dict = {'sumw': processor.defaultdict_accumulator(float)\n",
    "        }\n",
    "        \n",
    "\n",
    "    def process(self, events):\n",
    "\n",
    "        hists = self.hist_muon_dict.copy()\n",
    "\n",
    "        process = events.metadata[\"process\"]  # \"ttbar\" etc.\n",
    "\n",
    "    \n",
    "        if process != \"data\":\n",
    "            # normalization for MC\n",
    "            x_sec = events.metadata[\"xsec\"]\n",
    "            nevts_total = events.metadata[\"nevts\"]\n",
    "            lumi = 2256.38 # /pb integrated luminosity\n",
    "            xsec_weight = x_sec * lumi / nevts_total #L*cross-section/N\n",
    "        else:\n",
    "            xsec_weight = 1\n",
    "\n",
    "        events[\"pt_nominal\"] = 1.0\n",
    "\n",
    "        ### OBJECT SELECTION\n",
    "        \n",
    "        # Object selection: Muon (Tight - muon id definition in nanoAOD does not work, have to define manual)\n",
    "        \n",
    "        muon_is_global= events.Muon.isGlobal == True\n",
    "        muon_is_tracker= events.Muon.isTracker == True\n",
    "        \n",
    "        loose_muon_selection= (events.Muon.pt > 10) & (abs(events.Muon.eta)<2.5) & (events.Muon.pfRelIso04_all < 0.25) & (muon_is_global | muon_is_tracker)\n",
    "        selected_muon_selection = (events.Muon.pt > 26) & (abs(events.Muon.eta)<2.1) & (events.Muon.nTrackerLayers > 5) & (events.Muon.nStations > 0) & (abs(events.Muon.dxy) < 0.2) & (abs(events.Muon.dz) < 0.5) & (events.Muon.pfRelIso04_all < .15) & (muon_is_global & muon_is_tracker)\n",
    "                # [[muon 1], [muon 1, muon 2],..]\n",
    "                \n",
    "        selected_muons=events.Muon[(loose_muon_selection & selected_muon_selection)]\n",
    "        selected_muon= ak.count(selected_muons.pt, axis=1)==1 \n",
    "        \n",
    "        veto_muons=events.Muon[(loose_muon_selection & ~selected_muon_selection)] #  veto additional lose muon\n",
    "        veto_muon= ak.count(veto_muons.pt, axis=1)== 0\n",
    "        \n",
    "        #Object selection: Jets\n",
    "        selected_leptons = selected_muons \n",
    "        jet_selection = (events.Jet.pt * events[\"pt_nominal\"] > 30) & (abs(events.Jet.eta) < 2.5) & (events.Jet.jetId > 1)\n",
    "        selected_jets = events.Jet[jet_selection]\n",
    "        nearest_lepton = selected_jets.nearest(selected_leptons, threshold=.4)\n",
    "        selected_jets = selected_jets[ ~ak.is_none(nearest_lepton) ]\n",
    "        \n",
    "        ## the results of these 2 lines should be equivalent to the 2 lines above\n",
    "        #lepton_mask = ak.any(selected_jets.metric_table(selected_lepton, metric=lambda j, e: ak.local_index(j, axis=1) == e.jetIdx,), axis=2)\n",
    "        #selected_jets = selected_jets[~lepton_mask]\n",
    "        \n",
    "        selected_bjets = events.Jet[jet_selection & ~ak.is_none(nearest_lepton) & (events.Jet.btagCSVV2 >=0.8)]\n",
    "        selected_jets_nobjets = events.Jet[jet_selection & ~ak.is_none(nearest_lepton) & ~(events.Jet.btagCSVV2 >=0.8)]  ### this we might use it later\n",
    "        \n",
    "       ################\n",
    "        #### Event Selection\n",
    "        ################\n",
    "        \n",
    "        if self.DATASET.endswith(\"Muon\"):\n",
    "            # trigger\n",
    "            event_filters = ( events.HLT.IsoMu18 == 1 )  #trigger selection (1 value per event)\n",
    "            selected_lepton = selected_muon\n",
    "            veto_lepton = veto_muon\n",
    "\n",
    "        event_filters = event_filters & ( selected_lepton & veto_lepton )\n",
    "        # at least four jets\n",
    "        event_filters = event_filters & (ak.count(selected_jets.pt, axis=1) >= 4)\n",
    "        # at least one b-tagged jet (\"tag\" means score above threshold)\n",
    "        event_filters = event_filters & (ak.sum(selected_bjets) >= 1)\n",
    "        #print(event_filters)\n",
    "        \n",
    "        # apply event filters\n",
    "        selected_events = events[event_filters]\n",
    "        selected_muons = selected_muons[event_filters]\n",
    "        selected_jets = selected_jets[event_filters]\n",
    "        selected_bjets = selected_bjets[event_filters]\n",
    "        \n",
    "        ##### VARIABLES FOR BDT ####\n",
    "        \n",
    "        \n",
    "        #### Calculate HTb\n",
    "        htb = ak.sum(selected_bjets.pt, axis=1)\n",
    "    \n",
    "        \n",
    "        #### Calculate H_t^ratio\n",
    "        selected_jets_sorted = ak.sort(selected_jets.pt, axis=1, ascending=False)\n",
    "        \n",
    "        four_leading_jets=selected_jets_sorted[:, :4]\n",
    "        ht_leading_jets=ak.sum(four_leading_jets,axis=1)\n",
    "        \n",
    "        other_jets=selected_jets_sorted[:, 4:]\n",
    "        ht_other_jets = ak.sum(other_jets,axis=1)\n",
    "        \n",
    "        htrat = ht_other_jets/ht_leading_jets\n",
    "        print(htrat)\n",
    "        \n",
    "        #### Calculate Third-highest CSV\n",
    "        \n",
    "        #Sort jets by CSV values \n",
    "        sorted_jets= ak.argsort(selected_jets.btagCSVV2, axis=1)\n",
    "        \n",
    "        #Extract the third-highest CSV value\n",
    "        third_highest_csv = sorted_jets[:, 2]\n",
    "        \n",
    "        for ivar in [ \"pt\", \"eta\" ]:\n",
    "            hists[f'muon_{ivar}'].fill(\n",
    "                        var=ak.flatten(getattr(selected_muons, ivar)), process=process, variation=\"nominal\", weight=xsec_weight)\n",
    "            hists[f'jets_{ivar}'].fill(\n",
    "                        var=ak.flatten(getattr(selected_jets, ivar)), process=process, variation=\"nominal\", weight=xsec_weight)\n",
    "            hists['nmuons'].fill(var=ak.count(selected_muons.pt, axis=1), process=process, variation=\"nominal\", weight=xsec_weight)\n",
    "            hists['njets'].fill(var=ak.count(selected_jets.pt, axis=1), process=process, variation=\"nominal\", weight=xsec_weight)\n",
    "            hists['nbjets'].fill(var=ak.count(selected_bjets.pt, axis=1), process=process,variation=\"nominal\", weight=xsec_weight)\n",
    "            hists['htb'].fill(var=htb, process=process, variation=\"nominal\", weight=xsec_weight)\n",
    "            hists['htrat'].fill(var=htrat, process=process, variation=\"nominal\", weight=xsec_weight)\n",
    "            hists['third_highest_csv'].fill(var=third_highest_csv, process=process, variation=\"nominal\", weight=xsec_weight)\n",
    "     \n",
    "            output = {\"nevents\": {events.metadata[\"dataset\"]: len(events)}, \"hists\" : hists}\n",
    "\n",
    "            return output\n",
    "\n",
    "    def postprocess(self, accumulator):\n",
    "        return accumulator"
   ]
  },
  {
   "cell_type": "markdown",
   "id": "4a37346f",
   "metadata": {},
   "source": [
    "Let's make it run:"
   ]
  },
  {
   "cell_type": "code",
   "execution_count": 118,
   "id": "2903d0ad",
   "metadata": {},
   "outputs": [
    {
     "data": {
      "application/vnd.jupyter.widget-view+json": {
       "model_id": "7b65fd083cf4408d8cab2111e9fd6c32",
       "version_major": 2,
       "version_minor": 0
      },
      "text/plain": [
       "Preprocessing:   0%|          | 0/56 [00:00<?, ?file/s]"
      ]
     },
     "metadata": {},
     "output_type": "display_data"
    },
    {
     "data": {
      "application/vnd.jupyter.widget-view+json": {
       "model_id": "f5de90f1a4eb4620a58b8e5a27741c8c",
       "version_major": 2,
       "version_minor": 0
      },
      "text/plain": [
       "Processing:   0%|          | 0/69 [00:00<?, ?chunk/s]"
      ]
     },
     "metadata": {},
     "output_type": "display_data"
    },
    {
     "name": "stderr",
     "output_type": "stream",
     "text": [
      "/cvmfs/sft.cern.ch/lcg/views/LCG_102b_swan/x86_64-centos7-gcc11-opt/lib/python3.9/site-packages/coffea/nanoevents/schemas/nanoaod.py:193: RuntimeWarning: Missing cross-reference index for FatJet_subJetIdx1 => SubJet\n",
      "  warnings.warn(\n",
      "/cvmfs/sft.cern.ch/lcg/views/LCG_102b_swan/x86_64-centos7-gcc11-opt/lib/python3.9/site-packages/coffea/nanoevents/schemas/nanoaod.py:193: RuntimeWarning: Missing cross-reference index for FatJet_subJetIdx1 => SubJet\n",
      "  warnings.warn(\n",
      "/cvmfs/sft.cern.ch/lcg/views/LCG_102b_swan/x86_64-centos7-gcc11-opt/lib/python3.9/site-packages/coffea/nanoevents/schemas/nanoaod.py:193: RuntimeWarning: Missing cross-reference index for FatJet_subJetIdx1 => SubJet\n",
      "  warnings.warn(\n",
      "/cvmfs/sft.cern.ch/lcg/views/LCG_102b_swan/x86_64-centos7-gcc11-opt/lib/python3.9/site-packages/coffea/nanoevents/schemas/nanoaod.py:193: RuntimeWarning: Missing cross-reference index for FatJet_subJetIdx2 => SubJet\n",
      "  warnings.warn(\n",
      "/cvmfs/sft.cern.ch/lcg/views/LCG_102b_swan/x86_64-centos7-gcc11-opt/lib/python3.9/site-packages/coffea/nanoevents/schemas/nanoaod.py:193: RuntimeWarning: Missing cross-reference index for FatJet_subJetIdx2 => SubJet\n",
      "  warnings.warn(\n",
      "/cvmfs/sft.cern.ch/lcg/views/LCG_102b_swan/x86_64-centos7-gcc11-opt/lib/python3.9/site-packages/coffea/nanoevents/schemas/nanoaod.py:193: RuntimeWarning: Missing cross-reference index for FatJet_subJetIdx2 => SubJet\n",
      "  warnings.warn(\n",
      "/cvmfs/sft.cern.ch/lcg/views/LCG_102b_swan/x86_64-centos7-gcc11-opt/lib/python3.9/site-packages/coffea/nanoevents/schemas/nanoaod.py:193: RuntimeWarning: Missing cross-reference index for FatJet_subJetIdx1 => SubJet\n",
      "  warnings.warn(\n",
      "/cvmfs/sft.cern.ch/lcg/views/LCG_102b_swan/x86_64-centos7-gcc11-opt/lib/python3.9/site-packages/coffea/nanoevents/schemas/nanoaod.py:193: RuntimeWarning: Missing cross-reference index for FatJet_subJetIdx2 => SubJet\n",
      "  warnings.warn(\n"
     ]
    },
    {
     "name": "stdout",
     "output_type": "stream",
     "text": [
      "[0.15, 0, 0.109, 0.126, 0, 0.26, 0, 0, 0, ... 0.126, 0, 0, 0, 0.162, 0, 0.0996, 0]\n",
      "[0, 0, 0.287, 0, 0.115, 0, 0.396, 0, 0, ... 0, 0, 0, 0, 0.273, 0, 0.0923, 0, 0]\n",
      "[0, 0, 0.286, 0, 0, 0, 0.173, 0, 0.121, ... 0, 0.316, 0, 0.24, 0, 0.108, 0.465, 0]\n",
      "[0, 0.0818, 0, 0, 0.144, 0, 0, 0, 0, ... 0, 0.115, 0, 0, 0.126, 0.146, 0, 0.302, 0]\n",
      "[0.337, 0, 0, 0, 0, 0.0978, 0, 0, 0, 0.11, 0, ... 0, 0, 0, 0.308, 0, 0, 0, 0, 0, 0]\n",
      "[0, 0, 0.166, 0, 0, 0, 0.106, 0, 0, ... 0, 0, 0, 0.0786, 0, 0, 0.124, 0.142, 0]\n",
      "[0, 0, 0, 0, 0, 0, 0.118, 0, 0.237, 0, ... 0, 0.11, 0, 0.186, 0, 0, 0, 0, 0.0922, 0]\n",
      "[0, 0.112, 0.159, 0, 0, 0, 0, 0.228, 0, ... 0.208, 0.117, 0, 0.412, 0, 0, 0, 0]\n",
      "[0, 0.284, 0, 0.099, 0, 0, 0, 0, 0, ... 0.0907, 0.0589, 0, 0, 0.0897, 0, 0, 0, 0]\n",
      "[0, 0.181, 0, 0, 0.15, 0.114, 0.272, 0, 0, ... 0.12, 0.33, 0, 0, 0, 0, 0, 0.169]\n",
      "[0, 0, 0.293, 0.0962, 0, 0, 0, 0.242, ... 0, 0.43, 0.104, 0.178, 0, 0, 0.301, 0]\n",
      "[0, 0.119, 0, 0, 0, 0, 0, 0, 0.26, 0.312, ... 0, 0, 0.117, 0, 0.111, 0.134, 0, 0, 0]\n",
      "[0, 0, 0, 0.302, 0, 0.344, 0, 0, 0.108, ... 0, 0, 0, 0.0946, 0.304, 0, 0.14, 0.165]\n",
      "[0, 0.42, 0, 0.0951, 0.303, 0, 0.181, 0, 0, ... 0.0987, 0, 0.119, 0, 0, 0, 0.0867, 0]\n",
      "[0, 0, 0, 0, 0, 0.435, 0, 0, 0, 0, ... 0.0937, 0, 0.327, 0.133, 0, 0, 0.112, 0, 0, 0]\n",
      "[0, 0.174, 0, 0, 0.126, 0, 0.11, 0, 0, ... 0.246, 0, 0, 0.0956, 0.307, 0, 0.218, 0]\n",
      "[0, 0, 0, 0, 0.142, 0, 0, 0.0848, 0, 0.105, ... 0, 0, 0.094, 0, 0, 0, 0, 0, 0, 0]\n",
      "[0, 0, 0.123, 0, 0.149, 0, 0.142, 0.0814, 0, ... 0, 0, 0, 0, 0.0846, 0.146, 0, 0, 0]\n",
      "[0, 0, 0, 0, 0, 0, 0, 0.326, 0, 0, ... 0.301, 0, 0, 0.269, 0, 0, 0.142, 0.17, 0.247]\n",
      "[0, 0, 0.157, 0, 0.146, 0, 0.133, 0.188, ... 0.16, 0, 0.099, 0, 0.147, 0, 0.0916, 0]\n",
      "[0.123, 0, 0, 0.143, 0.0782, 0, 0, 0.0537, ... 0.339, 0.0597, 0, 0.0924, 0, 0.267, 0]\n",
      "[0, 0, 0.141, 0.139, 0, 0, 0.103, 0, 0, ... 0, 0.0576, 0, 0.151, 0, 0, 0.27, 0]\n",
      "[0, 0.2, 0, 0.109, 0, 0.261, 0.141, 0, 0, ... 0, 0, 0, 0.183, 0.139, 0, 0, 0, 0]\n",
      "[0, 0, 0, 0.153, 0.177, 0, 0.115, 0.148, ... 0.347, 0.0529, 0, 0.123, 0.152, 0, 0, 0]\n",
      "[0, 0.196, 0, 0, 0.206, 0, 0, 0, 0.126, ... 0, 0.328, 0.0859, 0, 0.136, 0.141, 0, 0]\n",
      "[0, 0.131, 0, 0, 0, 0, 0, 0, 0, ... 0, 0.158, 0, 0.115, 0, 0.113, 0.154, 0, 0.148]\n",
      "[0, 0.16, 0.172, 0.158, 0.128, 0, 0.202, 0, ... 0, 0, 0, 0.318, 0.0373, 0.0942, 0, 0]\n",
      "[0, 0, 0, 0.117, 0, 0.314, 0.313, 0, 0, ... 0.153, 0.179, 0, 0.232, 0, 0, 0.185, 0]\n",
      "[0.598, 0, 0.115, 0, 0.166, 0.172, 0.234, ... 0.0828, 0.0686, 0.164, 0.216, 0.127, 0]\n",
      "[0.114, 0.168, 0.161, 0, 0, 0, 0.0889, 0, 0, ... 0.0941, 0, 0.16, 0, 0, 0, 0.176, 0]\n",
      "[0, 0, 0, 0.486, 0, 0, 0, 0, 0, 0, 0, ... 0, 0, 0, 0, 0, 0, 0.114, 0, 0.0998, 0.102]\n",
      "[0, 0, 0.119, 0, 0, 0, 0.153, 0.0861, 0.158, 0.14, ... 0, 0, 0, 0, 0, 0.133, 0, 0, 0]\n",
      "[0, 0.159, 0, 0.268, 0.0292, 0, 0.17, 0, ... 0.118, 0.11, 0.134, 0, 0, 0, 0.0645, 0]\n",
      "[0, 0.249, 0, 0, 0, 0.138, 0, 0, 0, ... 0.0863, 0.088, 0, 0, 0.0955, 0.263, 0, 0.218]\n",
      "[0, 0, 0, 0, 0, 0, 0.154, 0, 0, 0, 0, ... 0, 0, 0.0937, 0, 0, 0, 0.256, 0, 0, 0, 0]\n",
      "[0, 0, 0.233, 0.0973, 0, 0, 0, 0, 0, ... 0.16, 0, 0, 0.167, 0.439, 0, 0.195, 0.137]\n",
      "[0, 0.191, 0, 0, 0.074, 0.275, 0, 0, ... 0, 0, 0.254, 0.296, 0, 0.348, 0.114, 0]\n",
      "[0.105, 0.253, 0.145, 0.112, 0, 0.141, 0, 0, ... 0.176, 0, 0, 0, 0.185, 0, 0.136]\n",
      "[0.844, 0.531, 0.923, 0.696, 0.314, 0.551, ... 0.292, 0.318, 0.889, 0.5, 0.237]\n",
      "[0, 0, 0, 0.17, 0, 0.199, 0, 0, 0.254, ... 0.131, 0.0905, 0.211, 0, 0, 0.0933, 0, 0]\n",
      "[0.434, 0.924, 0.3, 0.242, 0.406, 0.514, ... 0.506, 0.357, 0.907, 0.505, 0.388, 0.52]\n",
      "[0.248, 0.634, 0.412, 0.142, 0.0796, 0.186, ... 0.478, 0.362, 0.131, 0.508, 0.419]\n",
      "[0.443, 0.529, 0.68, 0.464, 0.129, 0.573, ... 0.631, 0.532, 0.966, 0.647, 0.497]\n",
      "[0.27, 0.332, 0.589, 0.608, 0.455, 0.599, ... 0.619, 0.88, 0.409, 0.24, 0.303, 0.553]\n",
      "[0.513, 0.702, 0.681, 0.574, 0.397, 0.666, ... 0.161, 0.435, 0.441, 0.972, 0.241]\n",
      "[0.624, 0.216, 0.561, 0.94, 0.186, 0.572, ... 0.295, 0.355, 0.494, 0.266, 0.696]\n",
      "[0, 0, 0, 0, 0.345, 0, 0.435, 0.172, ... 0.118, 0, 0, 0, 0.257, 0.0916, 0.132, 0]\n",
      "[0, 0.143, 0.29, 0.462, 0, 0, 0.458, 0.188, ... 0.145, 0.0995, 0, 0.206, 0, 0, 0.153]\n",
      "[0, 0.3, 0, 0, 0.113, 0.137, 0.288, ... 0.212, 0.16, 0.16, 0.104, 0.293, 0.213]\n",
      "[0, 0.274, 0.435, 0.289, 0, 0.133, 0.361, 0, ... 0.733, 0, 0, 0, 0, 0, 0, 0.529]\n",
      "[0.386, 0, 0.149, 0.113, 0.182, 0.0952, 0, 0, ... 0, 0.114, 0.123, 0, 0, 0, 0, 0]\n",
      "[0.209, 0.556, 0.123, 0, 0, 0.13, 0.526, 0.0807, ... 0.168, 0, 0, 0.13, 0, 0.403, 0]\n",
      "[0.194, 0.106, 0.109, 0, 0, 0.117, 0, ... 0, 0.281, 0.0693, 0.135, 0.0809, 0, 0.157]\n",
      "[0, 0.103, 0.149, 0, 0, 0, 0.592, 0.171, ... 0.29, 0.554, 0, 0.0931, 0, 0, 0, 0.288]\n",
      "[0.386, 0, 0.149, 0.113, 0.182, 0.0952, 0, 0, ... 0.175, 0.128, 0, 0, 0, 0, 0.156, 0]\n",
      "[0, 0, 0.0967, 0.243, 0.628, 0.105, 0, 0, 0, ... 0.0848, 0, 0, 0.371, 0, 0, 0.117, 0]\n",
      "[0, 0, 0.085, 0, 0.187, 0, 0.0766, ... 0, 0.439, 0.23, 0.125, 0, 0.213, 0.167]\n",
      "[0, 0.256, 0, 0, 0, 0.108, 0, 0, ... 0.0629, 0.131, 0.0749, 0, 0.124, 0, 0.0977, 0]\n",
      "[0.25, 0.102, 0.0722, 0, 0, 0, 0.113, 0, ... 0.14, 0, 0.219, 0.1, 0.173, 0.263, 0]\n",
      "[0.0849, 0.143, 0, 0.321, 0, 0.255, 0.332, ... 0.462, 0.202, 0.0803, 0, 0.083, 0, 0]\n",
      "[0.285, 0.102, 0, 0, 0, 0.138, 0.372, 0, ... 0, 0, 0.172, 0.356, 0.123, 0, 0, 0]\n",
      "[0.362, 0, 0, 0.0725, 0, 0, 0, 0.104, ... 0.113, 0, 0.18, 0, 0, 0.23, 0.299, 0.0606]\n",
      "[0.217, 0, 0, 0.169, 0, 0, 0, 0.143, 0, 0.137, ... 0, 0, 0.147, 0, 0, 0, 0.138, 0, 0]\n",
      "[0, 0.116, 0.204, 0.174, 0.282, 0.108, 0, ... 0.182, 0.316, 0, 0, 0.269, 0.178]\n",
      "[0.0884, 0, 0.251, 0, 0, 0.229, 0.176, ... 0, 0.233, 0, 0.0756, 0.13, 0.361, 0.24]\n",
      "[0, 0.128, 0.391, 0.102, 0.204, 0, 0.112, 0, ... 0, 0, 0, 0.16, 0.167, 0.197, 0, 0]\n",
      "[0, 0.46, 0, 0, 0.221, 0, 0.145, 0, 0, ... 0, 0, 0, 0, 0.132, 0.131, 0.181, 0.366]\n",
      "[0.219, 0.468, 0.247, 0, 0.0992, 0.151, 0, ... 0, 0.313, 0.132, 0, 0.148, 0.094]\n",
      "[0.148, 0.141, 0.185, 0, 0, 0, 0.246, ... 0.305, 0.197, 0, 0.458, 0.141, 0.12, 0]\n"
     ]
    }
   ],
   "source": [
    "executor = processor.FuturesExecutor(workers=NUM_CORES)\n",
    "\n",
    "run = processor.Runner(executor=executor, schema=NanoAODSchema, \n",
    "                       savemetrics=True, metadata_cache={}, chunksize=CHUNKSIZE)\n",
    "t0 = time.monotonic()\n",
    "all_histograms, metrics = run(fileset, \"Events\", processor_instance=fourTopAnalysis(DATASET=DATA))\n",
    "exec_time = time.monotonic() - t0\n"
   ]
  },
  {
   "cell_type": "code",
   "execution_count": 54,
   "id": "b58ae677",
   "metadata": {},
   "outputs": [
    {
     "name": "stdout",
     "output_type": "stream",
     "text": [
      "1210521\n"
     ]
    }
   ],
   "source": [
    "tttt_nevts = fileset[\"tttt__nominal\"][\"metadata\"][\"nevts\"]\n",
    "print(tttt_nevts)"
   ]
  },
  {
   "cell_type": "code",
   "execution_count": 55,
   "id": "ed7b4739",
   "metadata": {},
   "outputs": [
    {
     "name": "stdout",
     "output_type": "stream",
     "text": [
      "11378043\n"
     ]
    }
   ],
   "source": [
    "ttbar_nevts = fileset[\"ttbar__nominal\"][\"metadata\"][\"nevts\"]\n",
    "print(ttbar_nevts)"
   ]
  },
  {
   "cell_type": "code",
   "execution_count": 119,
   "id": "57cef8ab",
   "metadata": {},
   "outputs": [],
   "source": [
    "import pickle\n",
    "\n",
    "with open(\"histograms.pkl\", \"wb\") as f:\n",
    "    pickle.dump(all_histograms[\"hists\"], f, protocol=pickle.HIGHEST_PROTOCOL)"
   ]
  },
  {
   "cell_type": "code",
   "execution_count": 120,
   "id": "13d6e55f",
   "metadata": {},
   "outputs": [
    {
     "name": "stdout",
     "output_type": "stream",
     "text": [
      "event rate per worker (full execution time divided by NUM_CORES=4): 2.71 kHz\n",
      "event rate per worker (pure processtime): 3.08 kHz\n",
      "amount of data read: 6709.93 MB\n"
     ]
    }
   ],
   "source": [
    "dataset_source = \"/data\" if fileset[\"ttbar__nominal\"][\"files\"][0].startswith(\"/data\") else \"https://xrootd-local.unl.edu:1094\" # TODO: xcache support\n",
    "metrics.update({\"walltime\": exec_time, \"num_workers\": NUM_CORES, \"dataset_source\": dataset_source, \n",
    "                \"n_files_max_per_sample\": N_FILES_MAX_PER_SAMPLE, \n",
    "                \"cores_per_worker\": CORES_PER_WORKER, \"chunksize\": CHUNKSIZE})#\n",
    "\n",
    "print(f\"event rate per worker (full execution time divided by NUM_CORES={NUM_CORES}): {metrics['entries'] / NUM_CORES / exec_time / 1_000:.2f} kHz\")\n",
    "print(f\"event rate per worker (pure processtime): {metrics['entries'] / metrics['processtime'] / 1_000:.2f} kHz\")\n",
    "print(f\"amount of data read: {metrics['bytesread']/1000**2:.2f} MB\")  # likely buggy: https://github.com/CoffeaTeam/coffea/issues/717\n"
   ]
  }
 ],
 "metadata": {
  "kernelspec": {
   "display_name": "Python 3",
   "language": "python",
   "name": "python3"
  },
  "language_info": {
   "codemirror_mode": {
    "name": "ipython",
    "version": 3
   },
   "file_extension": ".py",
   "mimetype": "text/x-python",
   "name": "python",
   "nbconvert_exporter": "python",
   "pygments_lexer": "ipython3",
   "version": "3.9.12"
  }
 },
 "nbformat": 4,
 "nbformat_minor": 5
}
