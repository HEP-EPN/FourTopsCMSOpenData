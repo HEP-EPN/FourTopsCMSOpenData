{
 "cells": [
  {
   "cell_type": "markdown",
   "id": "b91d8f18",
   "metadata": {},
   "source": [
    "# Notebook 1 - Simple Analyzer\n",
    "\n",
    "This notebook takes CMS OpenData nanoAOD files, applies some selection and make few simple plots. \n",
    "\n",
    "Let's first load the libraries:"
   ]
  },
  {
   "cell_type": "code",
   "execution_count": 12,
   "id": "76764285",
   "metadata": {},
   "outputs": [],
   "source": [
    "import asyncio\n",
    "import logging\n",
    "import os\n",
    "import time\n",
    "\n",
    "import vector; vector.register_awkward()\n",
    "import awkward as ak\n",
    "from coffea import processor\n",
    "from coffea.nanoevents import transforms\n",
    "from coffea.nanoevents.methods import base, vector\n",
    "from coffea.nanoevents import NanoEventsFactory, NanoAODSchema\n",
    "import hist\n",
    "import json\n",
    "import matplotlib as mpl\n",
    "import matplotlib.pyplot as plt\n",
    "import numpy as np\n",
    "import uproot"
   ]
  },
  {
   "cell_type": "code",
   "execution_count": 13,
   "id": "56108f8c",
   "metadata": {},
   "outputs": [],
   "source": [
    "#ifile = uproot.open(\"https://xrootd-local.unl.edu:1094//store/user/AGC/nanoAOD/TT_TuneCUETP8M1_13TeV-powheg-pythia8/cmsopendata2015_ttbar_19980_PU25nsData2015v1_76X_mcRun2_asymptotic_v12_ext3-v1_00000_0000.root\")\n",
    "#ifile[\"Events\"].keys()\n",
    "\n",
    "#events = NanoEventsFactory.from_root(\n",
    "#    \"https://xrootd-local.unl.edu:1094//store/user/AGC/nanoAOD/TT_TuneCUETP8M1_13TeV-powheg-pythia8/cmsopendata2015_ttbar_19980_PU25nsData2015v1_76X_mcRun2_asymptotic_v12_ext3-v1_00000_0000.root\",\n",
    "#    schemaclass=NanoAODSchema.v6,\n",
    "#    metadata={\"dataset\": \"TT\"},\n",
    "#).events()\n"
   ]
  },
  {
   "cell_type": "code",
   "execution_count": 14,
   "id": "fee881c7",
   "metadata": {},
   "outputs": [
    {
     "name": "stdout",
     "output_type": "stream",
     "text": [
      "[[Jet, Jet, Jet, Jet, Jet, Jet, Jet, Jet, ... Jet, Jet, Jet, Jet, Jet, Jet, Jet]]\n",
      "[[None, None, None, None, None, None, None, ... None, None, None, None, None, None]]\n",
      "[[Jet, Jet, Jet, Jet, Jet, Jet, Jet, Jet, ... Jet, Jet, Jet, Jet, Jet, Jet, Jet]]\n",
      "[[Jet, Jet, Jet, Jet, Jet, Jet, Jet, Jet, ... Jet, Jet, Jet, Jet, Jet, Jet, Jet]]\n"
     ]
    }
   ],
   "source": [
    "#nearest_muon = events.Jet.nearest(events.Muon)\n",
    "#print(events.Jet)\n",
    "#print(nearest_muon)\n",
    "#print(events.Jet[~ak.is_none(nearest_muon)])\n",
    "#mask = ak.any(events.Jet.metric_table(events.Muon, metric=lambda j, e: ak.local_index(j, axis=1) == e.jetIdx,), axis=2)\n",
    "#print(events.Jet[~mask])\n",
    "#plt.hist(ifile[\"Events\"]['Electron_pt'])\n",
    "#plt.show()"
   ]
  },
  {
   "cell_type": "markdown",
   "id": "89775383",
   "metadata": {},
   "source": [
    "For future use, let's define some global configuration"
   ]
  },
  {
   "cell_type": "code",
   "execution_count": 15,
   "id": "1a6c4cb5",
   "metadata": {},
   "outputs": [],
   "source": [
    "### GLOBAL CONFIGURATION\n",
    "\n",
    "# input files per process, set to e.g. 10 (smaller number = faster)\n",
    "N_FILES_MAX_PER_SAMPLE = 2\n",
    "\n",
    "### BENCHMARKING-SPECIFIC SETTINGS\n",
    "\n",
    "# chunk size to use\n",
    "CHUNKSIZE = 500_000\n",
    "\n",
    "# metadata to propagate through to metrics\n",
    "CORES_PER_WORKER = 2  # does not do anything, only used for metric gathering (set to 2 for distributed coffea-casa)\n",
    "\n",
    "# scaling for local setups with FuturesExecutor\n",
    "NUM_CORES = 4"
   ]
  },
  {
   "cell_type": "markdown",
   "id": "9b7cb6b1",
   "metadata": {},
   "source": [
    "NanoAOD datasets are stored in `data/ntuples_nanoaod.json` folder. This json file contains information about the number of events, process and systematic. The following function reads the json file and returns a dictionary with the process to run."
   ]
  },
  {
   "cell_type": "code",
   "execution_count": 16,
   "id": "58a76cf5",
   "metadata": {},
   "outputs": [],
   "source": [
    "def construct_fileset(n_files_max_per_sample, \n",
    "                      onlyNominal=False,\n",
    "                      ntuples_json=\"ntuples_nanoaod.json\"):\n",
    "    # using https://atlas-groupdata.web.cern.ch/atlas-groupdata/dev/AnalysisTop/TopDataPreparation/XSection-MC15-13TeV.data\n",
    "    # for reference\n",
    "    # x-secs are in pb\n",
    "    xsec_info = {\n",
    "        \"ttbar\": 396.87 + 332.97, # nonallhad + allhad, keep same x-sec for all\n",
    "        \"single_top_s_chan\": 2.0268 + 1.2676,\n",
    "        \"single_top_t_chan\": (36.993 + 22.175)/0.252,  # scale from lepton filter to inclusive\n",
    "        \"single_top_tW\": 37.936 + 37.906,\n",
    "        \"wjets\": 61457 * 0.252,  # e/mu+nu final states\n",
    "        \"tttt\" : 1, \n",
    "        \"data\": None\n",
    "    }\n",
    "\n",
    "    # list of files\n",
    "    with open(ntuples_json) as f:\n",
    "        file_info = json.load(f)\n",
    "\n",
    "    # process into \"fileset\" summarizing all info\n",
    "    fileset = {}\n",
    "    for process in file_info.keys():\n",
    "        if process == \"data\":\n",
    "            continue  # skip data\n",
    "\n",
    "        for variation in file_info[process].keys():\n",
    "            if onlyNominal & ~variation.startswith(\"nominal\"): continue\n",
    "            print(variation)\n",
    "            file_list = file_info[process][variation][\"files\"]\n",
    "            if n_files_max_per_sample != -1:\n",
    "                file_list = file_list[:n_files_max_per_sample]  # use partial set of samples\n",
    "\n",
    "            file_paths = [f[\"path\"] for f in file_list]\n",
    "            nevts_total = sum([f[\"nevts\"] for f in file_list])\n",
    "            metadata = {\"process\": process, \"variation\": variation, \"nevts\": nevts_total, \"xsec\": xsec_info[process]}\n",
    "            fileset.update({f\"{process}__{variation}\": {\"files\": file_paths, \"metadata\": metadata}})\n",
    "\n",
    "    return fileset\n"
   ]
  },
  {
   "cell_type": "code",
   "execution_count": 17,
   "id": "6873da60",
   "metadata": {},
   "outputs": [
    {
     "name": "stdout",
     "output_type": "stream",
     "text": [
      "nominal\n",
      "nominal\n",
      "nominal\n",
      "nominal\n",
      "nominal\n",
      "processes in fileset: ['ttbar__nominal', 'single_top_s_chan__nominal', 'single_top_t_chan__nominal', 'single_top_tW__nominal', 'wjets__nominal']\n",
      "\n",
      "example of information in fileset:\n",
      "{\n",
      "  'files': [https://xrootd-local.unl.edu:1094//store/user/AGC/nanoAOD/TT_TuneCUETP8M1_13TeV-powheg-pythia8/cmsopendata2015_ttbar_19980_PU25nsData2015v1_76X_mcRun2_asymptotic_v12_ext3-v1_00000_0000.root, ...],\n",
      "  'metadata': {'process': 'ttbar', 'variation': 'nominal', 'nevts': 2631694, 'xsec': 729.84}\n",
      "}\n"
     ]
    }
   ],
   "source": [
    "fileset = construct_fileset(N_FILES_MAX_PER_SAMPLE, \n",
    "                            onlyNominal=True, ntuples_json='../data/ntuples_nanoaod.json') \n",
    "\n",
    "print(f\"processes in fileset: {list(fileset.keys())}\")\n",
    "print(f\"\\nexample of information in fileset:\\n{{\\n  'files': [{fileset['ttbar__nominal']['files'][0]}, ...],\")\n",
    "print(f\"  'metadata': {fileset['ttbar__nominal']['metadata']}\\n}}\")"
   ]
  },
  {
   "cell_type": "markdown",
   "id": "6ed54bc2",
   "metadata": {},
   "source": [
    "## Analyzer\n",
    "\n",
    "Here is the main analyzer. Uses coffea/awkward to make the analysis."
   ]
  },
  {
   "cell_type": "code",
   "execution_count": 18,
   "id": "7c01ffaf",
   "metadata": {},
   "outputs": [],
   "source": [
    "class fourTopAnalysis(processor.ProcessorABC):\n",
    "    def __init__(self):\n",
    "       \n",
    "        #### booking histograms\n",
    "        ## define categories\n",
    "        process_cat = hist.axis.StrCategory([], name=\"process\", label=\"Process\", growth=True)\n",
    "        variation_cat  = hist.axis.StrCategory([], name=\"variation\", label=\"Systematic variation\", growth=True)\n",
    "        \n",
    "        ## define bins (axis)\n",
    "        leadmuon_pt_axis = hist.axis.Regular( bins=200, start=0, stop=200, name=\"var\", label=\"lead. Muon $p_{T}$ [GeV]\")\n",
    "        nmuon_axis = hist.axis.Regular( bins=10, start=0, stop=10, name=\"var\", label=\"Number of Muons\")\n",
    "        leadele_pt_axis = hist.axis.Regular( 200, 0, 200, name=\"var\", label=\"lead. Electron $p_{T}$ [GeV]\")\n",
    "        leadjet_pt_axis = hist.axis.Regular( 200, 0, 200, name=\"var\", label=\"lead. Jet $p_{T}$ [GeV]\")\n",
    "        njets_axis = hist.axis.Regular( bins=10, start=0, stop=10, name=\"var\", label=\"Number of Jets\")\n",
    "        \n",
    "        \n",
    "        ## define a dictionary of histograms\n",
    "        self.hist_muon_dict = {\n",
    "            'leadmuon_pt' : (hist.Hist(leadmuon_pt_axis, process_cat, variation_cat, storage=hist.storage.Weight())),\n",
    "            'nmuons' : (hist.Hist(nmuon_axis, process_cat, variation_cat, storage=hist.storage.Weight())),\n",
    "            'leadele_pt'  : (hist.Hist(leadele_pt_axis, process_cat, variation_cat, storage=hist.storage.Weight())),\n",
    "            'leadjet_pt'  : (hist.Hist(leadjet_pt_axis, process_cat, variation_cat, storage=hist.storage.Weight())),\n",
    "            'njets' : (hist.Hist(njets_axis, process_cat, variation_cat, storage=hist.storage.Weight())),\n",
    "\n",
    "        }\n",
    "        \n",
    "        sumw_dict = {'sumw': processor.defaultdict_accumulator(float)\n",
    "        }\n",
    "        \n",
    "\n",
    "    def process(self, events):\n",
    "\n",
    "        hists = self.hist_muon_dict.copy()\n",
    "\n",
    "        process = events.metadata[\"process\"]  # \"ttbar\" etc.\n",
    "    \n",
    "        # normalization for MC\n",
    "        x_sec = events.metadata[\"xsec\"]\n",
    "        nevts_total = events.metadata[\"nevts\"]\n",
    "        lumi = 3378 # /pb\n",
    "        if process != \"data\":\n",
    "            xsec_weight = x_sec * lumi / nevts_total\n",
    "        else:\n",
    "            xsec_weight = 1\n",
    "\n",
    "        events[\"pt_nominal\"] = 1.0\n",
    "\n",
    "        ################\n",
    "        #### Object Selection\n",
    "        ################\n",
    "        #### electrons. In this case veto_ele and selected_ele are not a subset since cutBased value is exclusive.\n",
    "        veto_ele_selection = (events.Electron.pt > 15) & (abs(events.Electron.eta) < 2.5) & (events.Electron.cutBased == 1)\n",
    "        selected_ele_selection = (events.Electron.pt > 30) & (abs(events.Electron.eta) < 2.1) & (events.Electron.cutBased == 4)\n",
    "        selected_electrons = events.Electron[ selected_ele_selection ]\n",
    "        selected_electron = (ak.count(selected_electrons.pt, axis=1) ==1 ) \n",
    "        #print(selected_electrons) ### [ [electron1, electron2], [electron1], [], .....  ]\n",
    "        veto_electrons = events.Electron[ veto_ele_selection ]\n",
    "        veto_electron = (ak.count(veto_electrons.pt, axis=1) == 0 )\n",
    "        \n",
    "        #### muons (muon id definition in nanoAOD does not work, have to define manual)\n",
    "        loose_muon_selection = (events.Muon.pt > 10) & (abs(events.Muon.eta)<2.5) \\\n",
    "                                & ((events.Muon.isGlobal == 1) | (events.Muon.isTracker == 1)) \\\n",
    "                                & (events.Muon.pfRelIso04_all < 0.25)\n",
    "        selected_muon_selection = (events.Muon.pt > 26) & (abs(events.Muon.eta)<2.1) \\\n",
    "                                    & ((events.Muon.isGlobal == 1) | (events.Muon.isTracker == 1)) \\\n",
    "                                    & (events.Muon.nTrackerLayers > 5) & (events.Muon.nStations > 0) \\\n",
    "                                    & (abs(events.Muon.dxy) < 0.2) & (abs(events.Muon.dz) < 0.5) \\\n",
    "                                    & (events.Muon.pfRelIso04_all < .15)\n",
    "        selected_muons = events.Muon[( loose_muon_selection & selected_muon_selection)]\n",
    "        selected_muon = (ak.count(selected_muons.pt, axis=1) == 1 ) \n",
    "        veto_muons = events.Muon[( loose_muon_selection & ~selected_muon_selection )]\n",
    "        veto_muon = (ak.count(veto_muons.pt, axis=1 ) == 0 )\n",
    "        #print(\"sel\",selected_muons)\n",
    "        #print(\"veto\",veto_muons)\n",
    "\n",
    "        #### jets\n",
    "        jet_selection = (events.Jet.pt * events[\"pt_nominal\"] > 30) & (abs(events.Jet.eta) < 2.5) & (events.Jet.jetId > 1)\n",
    "        selected_jets = events.Jet[jet_selection]\n",
    "        nearest_muon = selected_jets.nearest(selected_muons, threshold=.4)\n",
    "        selected_jets = selected_jets[ ~ak.is_none(nearest_muon) ]\n",
    "        ## the results of these 2 lines should be equivalent to the 2 lines above\n",
    "        #muon_mask = ak.any(selected_jets.metric_table(selected_muon, metric=lambda j, e: ak.local_index(j, axis=1) == e.jetIdx,), axis=2)\n",
    "        #selected_jets = selected_jets[~muon_mask]\n",
    "        \n",
    "        selected_bjets = events.Jet[jet_selection & ~ak.is_none(nearest_muon) & (events.Jet.btagCSVV2 >=0.8)]\n",
    "        selected_jets_nobjets = events.Jet[jet_selection & ~ak.is_none(nearest_muon) & ~(events.Jet.btagCSVV2 >=0.8)]  ### this we might use it later\n",
    "\n",
    "        ################\n",
    "        #### Event Selection\n",
    "        ################\n",
    "        \n",
    "        #### triggers\n",
    "        selected_muon_triggers = ( events.HLT.IsoMu18 == 1 ) \n",
    "        selected_ele_triggers = ( events.HLT.Ele23_WPLoose_Gsf == 1 ) \n",
    "        \n",
    "        # single lepton requirement\n",
    "        event_filters = selected_muon_triggers\n",
    "        event_filters = event_filters & ( selected_muon & veto_muon )\n",
    "        #event_filters = ((ak.count(selected_electrons.pt, axis=1) + ak.count(selected_muons.pt, axis=1)) == 1)\n",
    "        # at least four jets\n",
    "        event_filters = event_filters & (ak.count(selected_jets.pt, axis=1) >= 4)\n",
    "        # at least one b-tagged jet (\"tag\" means score above threshold)\n",
    "        event_filters = event_filters & (ak.sum(selected_bjets) >= 1)\n",
    "        #print(event_filters)\n",
    "        \n",
    "        # apply event filters\n",
    "        selected_events = events[event_filters]\n",
    "        selected_electrons = selected_electrons[event_filters]\n",
    "        selected_muons = selected_muons[event_filters]\n",
    "        selected_jets = selected_jets[event_filters]\n",
    "        \n",
    "        \n",
    "        hists['leadmuon_pt'].fill(\n",
    "                    var=ak.flatten(selected_muons.pt), process=process,\n",
    "                    variation=\"nominal\", weight=xsec_weight\n",
    "                )\n",
    "        hists['nmuons'].fill(\n",
    "                    var=ak.count(selected_muons.pt, axis=1), process=process,\n",
    "                    variation=\"nominal\", weight=xsec_weight\n",
    "                )\n",
    "        hists['leadele_pt'].fill(\n",
    "                    var=ak.flatten(selected_electrons.pt), process=process,\n",
    "                    variation=\"nominal\", weight=xsec_weight\n",
    "                )\n",
    "        hists['njets'].fill(\n",
    "                    var=ak.count(selected_jets.pt, axis=1), process=process,\n",
    "                    variation=\"nominal\", weight=xsec_weight\n",
    "                )\n",
    "\n",
    "        '''\n",
    "        for region in [\"4j1b\", \"4j2b\"]:\n",
    "            # further filtering: 4j1b CR with single b-tag, 4j2b SR with two or more tags\n",
    "            if region == \"4j1b\":\n",
    "                region_filter = ak.sum(selected_jets.btagCSVV2 >= B_TAG_THRESHOLD, axis=1) == 1\n",
    "                selected_jets_region = selected_jets[region_filter]\n",
    "                # use HT (scalar sum of jet pT) as observable\n",
    "                pt_var_modifier = events[event_filters][region_filter][\"pt_nominal\"]\n",
    "                observable = ak.sum(selected_jets_region.pt * pt_var_modifier, axis=-1)\n",
    "\n",
    "            elif region == \"4j2b\":\n",
    "                region_filter = ak.sum(selected_jets.btagCSVV2 > B_TAG_THRESHOLD, axis=1) >= 2\n",
    "                selected_jets_region = selected_jets[region_filter]\n",
    "\n",
    "                # reconstruct hadronic top as bjj system with largest pT\n",
    "                # the jet energy scale / resolution effect is not propagated to this observable at the moment\n",
    "                trijet = ak.combinations(selected_jets_region, 3, fields=[\"j1\", \"j2\", \"j3\"])  # trijet candidates\n",
    "                trijet[\"p4\"] = trijet.j1 + trijet.j2 + trijet.j3  # calculate four-momentum of tri-jet system\n",
    "                trijet[\"max_btag\"] = np.maximum(trijet.j1.btagCSVV2, np.maximum(trijet.j2.btagCSVV2, trijet.j3.btagCSVV2))\n",
    "                trijet = trijet[trijet.max_btag > B_TAG_THRESHOLD]  # at least one-btag in trijet candidates\n",
    "                # pick trijet candidate with largest pT and calculate mass of system\n",
    "                trijet_mass = trijet[\"p4\"][ak.argmax(trijet.p4.pt, axis=1, keepdims=True)].mass\n",
    "                observable = ak.flatten(trijet_mass)\n",
    "\n",
    "            ### histogram filling\n",
    "            \n",
    "            # nominal pT, but including 2-point systematics\n",
    "            histogram.fill(\n",
    "                    observable=observable, region=region, process=process,\n",
    "                    variation=\"nominal\", weight=xsec_weight\n",
    "                )\n",
    "\n",
    "        '''\n",
    "        \n",
    "        output = {\"nevents\": {events.metadata[\"dataset\"]: len(events)}, \"hists\" : hists}\n",
    "\n",
    "        return output\n",
    "\n",
    "    def postprocess(self, accumulator):\n",
    "        return accumulator"
   ]
  },
  {
   "cell_type": "markdown",
   "id": "4a37346f",
   "metadata": {},
   "source": [
    "Let's make it run:"
   ]
  },
  {
   "cell_type": "code",
   "execution_count": 20,
   "id": "df430212",
   "metadata": {},
   "outputs": [
    {
     "data": {
      "application/vnd.jupyter.widget-view+json": {
       "model_id": "6055919c6cd042ef8802e6612c53be14",
       "version_major": 2,
       "version_minor": 0
      },
      "text/plain": [
       "Preprocessing:   0%|          | 0/10 [00:00<?, ?file/s]"
      ]
     },
     "metadata": {},
     "output_type": "display_data"
    },
    {
     "data": {
      "application/vnd.jupyter.widget-view+json": {
       "model_id": "f9da5b6205a349fcae9ccd7b2d42c8fd",
       "version_major": 2,
       "version_minor": 0
      },
      "text/plain": [
       "Processing:   0%|          | 0/20 [00:00<?, ?chunk/s]"
      ]
     },
     "metadata": {},
     "output_type": "display_data"
    }
   ],
   "source": [
    "executor = processor.FuturesExecutor(workers=NUM_CORES)\n",
    "\n",
    "run = processor.Runner(executor=executor, schema=NanoAODSchema, \n",
    "                       savemetrics=True, metadata_cache={}, chunksize=CHUNKSIZE)\n",
    "t0 = time.monotonic()\n",
    "all_histograms, metrics = run(fileset, \"Events\", processor_instance=fourTopAnalysis())\n",
    "exec_time = time.monotonic() - t0"
   ]
  },
  {
   "cell_type": "code",
   "execution_count": 21,
   "id": "711a4872",
   "metadata": {},
   "outputs": [],
   "source": [
    "import pickle\n",
    "\n",
    "with open(\"histograms.pkl\", \"wb\") as f:\n",
    "    pickle.dump(all_histograms[\"hists\"], f, protocol=pickle.HIGHEST_PROTOCOL)"
   ]
  },
  {
   "cell_type": "code",
   "execution_count": 22,
   "id": "13d6e55f",
   "metadata": {},
   "outputs": [
    {
     "name": "stdout",
     "output_type": "stream",
     "text": [
      "event rate per worker (full execution time divided by NUM_CORES=4): 1.88 kHz\n",
      "event rate per worker (pure processtime): 2.10 kHz\n",
      "amount of data read: 3464.86 MB\n"
     ]
    }
   ],
   "source": [
    "dataset_source = \"/data\" if fileset[\"ttbar__nominal\"][\"files\"][0].startswith(\"/data\") else \"https://xrootd-local.unl.edu:1094\" # TODO: xcache support\n",
    "metrics.update({\"walltime\": exec_time, \"num_workers\": NUM_CORES, \"dataset_source\": dataset_source, \n",
    "                \"n_files_max_per_sample\": N_FILES_MAX_PER_SAMPLE, \n",
    "                \"cores_per_worker\": CORES_PER_WORKER, \"chunksize\": CHUNKSIZE})#\n",
    "\n",
    "print(f\"event rate per worker (full execution time divided by NUM_CORES={NUM_CORES}): {metrics['entries'] / NUM_CORES / exec_time / 1_000:.2f} kHz\")\n",
    "print(f\"event rate per worker (pure processtime): {metrics['entries'] / metrics['processtime'] / 1_000:.2f} kHz\")\n",
    "print(f\"amount of data read: {metrics['bytesread']/1000**2:.2f} MB\")  # likely buggy: https://github.com/CoffeaTeam/coffea/issues/717\n"
   ]
  },
  {
   "cell_type": "code",
   "execution_count": null,
   "id": "d0178c8b",
   "metadata": {},
   "outputs": [],
   "source": []
  }
 ],
 "metadata": {
  "kernelspec": {
   "display_name": "Python 3",
   "language": "python",
   "name": "python3"
  },
  "language_info": {
   "codemirror_mode": {
    "name": "ipython",
    "version": 3
   },
   "file_extension": ".py",
   "mimetype": "text/x-python",
   "name": "python",
   "nbconvert_exporter": "python",
   "pygments_lexer": "ipython3",
   "version": "3.9.12"
  }
 },
 "nbformat": 4,
 "nbformat_minor": 5
}
